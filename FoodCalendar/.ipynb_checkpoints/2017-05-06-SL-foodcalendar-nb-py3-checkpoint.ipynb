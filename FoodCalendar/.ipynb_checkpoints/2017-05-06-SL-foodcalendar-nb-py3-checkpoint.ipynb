{
 "cells": [
  {
   "cell_type": "markdown",
   "metadata": {},
   "source": [
    "## Notebook for debugging"
   ]
  },
  {
   "cell_type": "code",
   "execution_count": 1,
   "metadata": {
    "collapsed": false
   },
   "outputs": [],
   "source": [
    "import numpy as np\n",
    "import pandas as pd\n",
    "import recipe as rc\n",
    "import re\n",
    "from random import randint\n",
    "import time \n",
    "import json\n",
    "import requests\n",
    "import os\n",
    "#pip install --upgrade google-api-python-client\n",
    "from googleapiclient.discovery import build\n",
    "\n",
    "\n",
    "def google_url_shorten(url, api_key):\n",
    "    # remember to enable https://console.developers.google.com/apis/api/urlshortener.googleapis.com/\n",
    "   req_url = 'https://www.googleapis.com/urlshortener/v1/url?key=' + api_key\n",
    "   payload = {'longUrl': url}\n",
    "   headers = {'content-type': 'application/json'}\n",
    "   r = requests.post(req_url, data=json.dumps(payload), headers=headers)\n",
    "   resp = json.loads(r.text)\n",
    "   return resp['id']\n",
    "\n",
    "\n",
    "def google_search(search_term, api_key, cse_id, **kwargs):\n",
    "    service = build(\"customsearch\", \"v1\", developerKey=api_key)\n",
    "    res = service.cse().list(q=search_term, cx=cse_id, **kwargs).execute()\n",
    "    return res['items']\n",
    "\n",
    "\n",
    "def export_recipe_tweet(foodimage='', foodurl='', recipename='', recipeid='', googleAPIkey='', ingredient=''):\n",
    "    ''' input image, url, recipename for text, id for reference and process image and append tweet to scheduler'''\n",
    "    foodurlshort = google_url_shorten(foodurl, googleAPIkey)\n",
    "    recipenamefix = recipename.lower().replace(\" \", \"\").replace(\"'\", \"\")\n",
    "    foodtext = '''Today's recipe is {}: {} {}'''.format(recipename, foodurlshort, '#recipeoftheday')\n",
    "    if foodimage != '':\n",
    "        ingredientname=ingredient.lower().replace(\" \", \"\").replace(\"'\", \"\")\n",
    "        imagename = '''images/{}_{}_{}.jpg'''.format(time.strftime('%Y-%m-%d'), ingredientname, recipeid)\n",
    "        imagenamepath = '''{}/{}'''.format(os.getcwd(), imagename)\n",
    "        os.system(\"wget -O {0} {1}\".format(imagenamepath, foodimage))\n",
    "    res = create_tweet(content=foodtext, image=imagenamepath, scheduledate=time.strftime('%Y-%m-%d'),\n",
    "                 scheduletime='{}:{}'.format(str(randint(14,16)).zfill(2), str(randint(0,59)).zfill(2)))\n",
    "    return res\n",
    "\n",
    "\n",
    "def create_tweet(savefile='/home/pi/FCtwitter/TweetSchedule.txt', content='',\n",
    "                 image='', scheduledate='2017-05-06', scheduletime='07:00'):\n",
    "    ''' format tweet as follows for scheduler and append:   \n",
    "    a|Example tweet with attachment|image name.jpg|2017-03-26@00:00\n",
    "    '''\n",
    "    tweet_format='a'+'|'+content+'|'+image+'|'+scheduledate+'@'+scheduletime\n",
    "    with open(savefile, 'a') as file:\n",
    "        file.write('\\n'+tweet_format)\n",
    "    # TODO: should really be replaced with proper error handling...\n",
    "    if len(content) > 140:\n",
    "        return 'Tweet too long'\n",
    "    else:\n",
    "        return 'Tweet created'\n"
   ]
  },
  {
   "cell_type": "code",
   "execution_count": 2,
   "metadata": {
    "collapsed": false,
    "scrolled": true
   },
   "outputs": [
    {
     "name": "stdout",
     "output_type": "stream",
     "text": [
      "Joke and trivia for today\n"
     ]
    }
   ],
   "source": [
    "authdetailsdf=pd.read_csv(\"authdetails.csv\", sep=';') \n",
    "authdetails=dict(zip(list(authdetailsdf.key), list(authdetailsdf.value)))\n",
    "googleAPIkey = authdetails['googleAPIkey']\n",
    "csname = authdetails['googlecsname']\n",
    "spoon_api_key = authdetails['spoon_api_key']\n",
    "\n",
    "fooddata = pd.read_csv(\"fooddaysSimple.csv\", sep='\\t') \n",
    "todayday = int(time.strftime('%d'))\n",
    "todaymonth = int(time.strftime('%m'))\n",
    "monthday = np.all([fooddata.Month==todaymonth, fooddata.Day==todayday], axis=0)\n",
    "datatoday = fooddata[monthday]\n",
    "\n",
    "# TODO: write unit tests for three cases...\n",
    "\n",
    "if datatoday.shape[0]>0:\n",
    "    ingredient = datatoday['Food'].values[0]\n",
    "    # there is a national food day entry\n",
    "    nationalday = 'National '+ingredient+' Day!'\n",
    "    hashtag = '#'+'national'+ingredient.lower().replace(\" \", \"\").replace(\"'\", \"\")+'day'\n",
    "    # get top google result for information about the day\n",
    "    results = google_search(nationalday, googleAPIkey, csname, num=1)\n",
    "    dayurlshort = google_url_shorten(results[0]['link'], googleAPIkey)\n",
    "    # create one tweet for this\n",
    "    nationaldaytweet = '''Happy {} More info at: {} {}'''.format(nationalday, dayurlshort, hashtag)\n",
    "    create_tweet(content=nationaldaytweet, scheduledate=time.strftime('%Y-%m-%d'), \n",
    "                 scheduletime='{}:{}'.format(str(randint(10,12)).zfill(2), str(randint(0,59)).zfill(2)))\n",
    "    \n",
    "    # get recipes that has the national food day in it as an ingredient\n",
    "    # can be extended with starter, main, and dessert\n",
    "    a=rc.RecipeClient(spoon_api_key)\n",
    "    recipes=a.find_by_ingredients(ingredient)\n",
    "    if len(recipes)>0:\n",
    "        recipesdf = pd.DataFrame(recipes)\n",
    "        recipesdf.sort_values(['likes', 'missedIngredientCount'], ascending=[False, False], inplace=True) #recipesdf.sort(['likes', 'missedIngredientCount'], ascending=[False, False], inplace=True)\n",
    "        foodimageSpoon = recipesdf.iloc[1]['image']\n",
    "        foodurlSpoon = re.sub('png','', re.sub('.jpg', '', re.sub('recipeImages', 'recipe', foodimageSpoon)))\n",
    "        recipenameSpoon = recipesdf.iloc[1]['title']\n",
    "        recipeidSpoon = recipesdf.iloc[1]['id']\n",
    "        res = export_recipe_tweet(foodimage=foodimageSpoon, foodurl=foodurlSpoon, recipename=recipenameSpoon,\\\n",
    "                                  recipeid=recipeidSpoon, googleAPIkey=googleAPIkey, ingredient=ingredient) \n",
    "        print(res)\n",
    "    else:\n",
    "        googlerecipe = google_search(ingredient+' recipe', googleAPIkey, csname, num=1)\n",
    "        foodurlGoogle = googlerecipe[0]['link']\n",
    "        foodimageGoogle = googlerecipe[0]['pagemap']['cse_image'][0]['src']\n",
    "        recipenameGoogle = ingredient\n",
    "        res = export_recipe_tweet(foodimage=foodimageGoogle, foodurl=foodurlGoogle, recipename=recipenameGoogle,\\\n",
    "                                  recipeid='google', googleAPIkey=googleAPIkey, ingredient=recipenameGoogle) \n",
    "        print(res)\n",
    "else:\n",
    "    a=rc.RecipeClient(spoon_api_key)\n",
    "    # get random joke   \n",
    "    jokeattempt=0\n",
    "    joke = a.random_joke()\n",
    "    while jokeattempt <5:\n",
    "        if len(joke['text']) < 141:\n",
    "            create_tweet(content=joke['text'], scheduledate=time.strftime('%Y-%m-%d'), \n",
    "                         scheduletime='{}:{}'.format(str(randint(10,12)).zfill(2), str(randint(0,59)).zfill(2)))\n",
    "            jokeattempt=100\n",
    "            break\n",
    "        else:\n",
    "            joke = a.random_joke()\n",
    "            jokeattempt+=1\n",
    "    # ge random trivia\n",
    "    triviaattempt=0\n",
    "    trivia = a.random_trivia()\n",
    "    while triviaattempt <5:\n",
    "        if len(trivia['text']) < 141:\n",
    "            create_tweet(content=trivia['text'], scheduledate=time.strftime('%Y-%m-%d'), \n",
    "                         scheduletime='{}:{}'.format(str(randint(14,18)).zfill(2), str(randint(0,59)).zfill(2)))\n",
    "            triviaattempt=100\n",
    "            break\n",
    "        else:\n",
    "            trivia = a.random_trivia()\n",
    "            triviaattempt+=1\n",
    "    print('Joke and trivia for today')\n",
    "\n",
    "   "
   ]
  },
  {
   "cell_type": "code",
   "execution_count": 3,
   "metadata": {
    "collapsed": false,
    "scrolled": true
   },
   "outputs": [
    {
     "ename": "NameError",
     "evalue": "name 'foodurlSpoon' is not defined",
     "output_type": "error",
     "traceback": [
      "\u001b[0;31m---------------------------------------------------------------------------\u001b[0m",
      "\u001b[0;31mNameError\u001b[0m                                 Traceback (most recent call last)",
      "\u001b[0;32m<ipython-input-3-1b28fe395162>\u001b[0m in \u001b[0;36m<module>\u001b[0;34m()\u001b[0m\n\u001b[0;32m----> 1\u001b[0;31m \u001b[0mfoodurlSpoon\u001b[0m\u001b[0;34m\u001b[0m\u001b[0m\n\u001b[0m",
      "\u001b[0;31mNameError\u001b[0m: name 'foodurlSpoon' is not defined"
     ]
    }
   ],
   "source": [
    "foodurlSpoon"
   ]
  },
  {
   "cell_type": "code",
   "execution_count": 4,
   "metadata": {
    "collapsed": false
   },
   "outputs": [
    {
     "ename": "NameError",
     "evalue": "name 'recipesdf' is not defined",
     "output_type": "error",
     "traceback": [
      "\u001b[0;31m---------------------------------------------------------------------------\u001b[0m",
      "\u001b[0;31mNameError\u001b[0m                                 Traceback (most recent call last)",
      "\u001b[0;32m<ipython-input-4-bcf9c1cd2ba3>\u001b[0m in \u001b[0;36m<module>\u001b[0;34m()\u001b[0m\n\u001b[0;32m----> 1\u001b[0;31m \u001b[0mrecipesdf\u001b[0m\u001b[0;34m\u001b[0m\u001b[0m\n\u001b[0m",
      "\u001b[0;31mNameError\u001b[0m: name 'recipesdf' is not defined"
     ]
    }
   ],
   "source": [
    "recipesdf"
   ]
  },
  {
   "cell_type": "code",
   "execution_count": 55,
   "metadata": {
    "collapsed": false,
    "scrolled": true
   },
   "outputs": [
    {
     "data": {
      "text/plain": [
       "'https://goo.gl/i7YS5z'"
      ]
     },
     "execution_count": 55,
     "metadata": {},
     "output_type": "execute_result"
    }
   ],
   "source": [
    "google_url_shorten(foodurlSpoon, googleAPIkey)"
   ]
  },
  {
   "cell_type": "code",
   "execution_count": 5,
   "metadata": {
    "collapsed": false
   },
   "outputs": [
    {
     "ename": "NameError",
     "evalue": "name 'ingredient' is not defined",
     "output_type": "error",
     "traceback": [
      "\u001b[0;31m---------------------------------------------------------------------------\u001b[0m",
      "\u001b[0;31mNameError\u001b[0m                                 Traceback (most recent call last)",
      "\u001b[0;32m<ipython-input-5-5c3c2578f73d>\u001b[0m in \u001b[0;36m<module>\u001b[0;34m()\u001b[0m\n\u001b[0;32m----> 1\u001b[0;31m \u001b[0mgooglerecipe\u001b[0m \u001b[0;34m=\u001b[0m \u001b[0mgoogle_search\u001b[0m\u001b[0;34m(\u001b[0m\u001b[0mingredient\u001b[0m\u001b[0;34m+\u001b[0m\u001b[0;34m' recipe'\u001b[0m\u001b[0;34m,\u001b[0m \u001b[0mgoogleAPIkey\u001b[0m\u001b[0;34m,\u001b[0m \u001b[0mcsname\u001b[0m\u001b[0;34m,\u001b[0m \u001b[0mnum\u001b[0m\u001b[0;34m=\u001b[0m\u001b[0;36m1\u001b[0m\u001b[0;34m)\u001b[0m\u001b[0;34m\u001b[0m\u001b[0m\n\u001b[0m\u001b[1;32m      2\u001b[0m \u001b[0mfoodurlGoogle\u001b[0m \u001b[0;34m=\u001b[0m \u001b[0mgooglerecipe\u001b[0m\u001b[0;34m[\u001b[0m\u001b[0;36m0\u001b[0m\u001b[0;34m]\u001b[0m\u001b[0;34m[\u001b[0m\u001b[0;34m'link'\u001b[0m\u001b[0;34m]\u001b[0m\u001b[0;34m\u001b[0m\u001b[0m\n\u001b[1;32m      3\u001b[0m \u001b[0mfoodimageGoogle\u001b[0m \u001b[0;34m=\u001b[0m \u001b[0mgooglerecipe\u001b[0m\u001b[0;34m[\u001b[0m\u001b[0;36m0\u001b[0m\u001b[0;34m]\u001b[0m\u001b[0;34m[\u001b[0m\u001b[0;34m'pagemap'\u001b[0m\u001b[0;34m]\u001b[0m\u001b[0;34m[\u001b[0m\u001b[0;34m'cse_image'\u001b[0m\u001b[0;34m]\u001b[0m\u001b[0;34m\u001b[0m\u001b[0m\n\u001b[1;32m      4\u001b[0m \u001b[0mrecipenameGoogle\u001b[0m \u001b[0;34m=\u001b[0m \u001b[0mingredient\u001b[0m\u001b[0;34m\u001b[0m\u001b[0m\n\u001b[1;32m      5\u001b[0m \u001b[0mexport_recipe_tweet\u001b[0m\u001b[0;34m(\u001b[0m\u001b[0mfoodimageGoogle\u001b[0m\u001b[0;34m,\u001b[0m \u001b[0mfoodurlGoogle\u001b[0m\u001b[0;34m,\u001b[0m \u001b[0mrecipenameGoogle\u001b[0m\u001b[0;34m,\u001b[0m \u001b[0mgoogleAPIkey\u001b[0m\u001b[0;34m)\u001b[0m\u001b[0;34m\u001b[0m\u001b[0m\n",
      "\u001b[0;31mNameError\u001b[0m: name 'ingredient' is not defined"
     ]
    }
   ],
   "source": [
    "googlerecipe = google_search(ingredient+' recipe', googleAPIkey, csname, num=1)\n",
    "foodurlGoogle = googlerecipe[0]['link']\n",
    "foodimageGoogle = googlerecipe[0]['pagemap']['cse_image']\n",
    "recipenameGoogle = ingredient\n",
    "export_recipe_tweet(foodimageGoogle, foodurlGoogle, recipenameGoogle, googleAPIkey) \n"
   ]
  },
  {
   "cell_type": "code",
   "execution_count": 6,
   "metadata": {
    "collapsed": false
   },
   "outputs": [
    {
     "ename": "NameError",
     "evalue": "name 'foodimageGoogle' is not defined",
     "output_type": "error",
     "traceback": [
      "\u001b[0;31m---------------------------------------------------------------------------\u001b[0m",
      "\u001b[0;31mNameError\u001b[0m                                 Traceback (most recent call last)",
      "\u001b[0;32m<ipython-input-6-8cd9c9116bff>\u001b[0m in \u001b[0;36m<module>\u001b[0;34m()\u001b[0m\n\u001b[0;32m----> 1\u001b[0;31m \u001b[0mexport_recipe_tweet\u001b[0m\u001b[0;34m(\u001b[0m\u001b[0mfoodimageGoogle\u001b[0m\u001b[0;34m,\u001b[0m \u001b[0mfoodurlGoogle\u001b[0m\u001b[0;34m,\u001b[0m \u001b[0mrecipenameGoogle\u001b[0m\u001b[0;34m,\u001b[0m \u001b[0mgoogleAPIkey\u001b[0m\u001b[0;34m)\u001b[0m\u001b[0;34m\u001b[0m\u001b[0m\n\u001b[0m",
      "\u001b[0;31mNameError\u001b[0m: name 'foodimageGoogle' is not defined"
     ]
    }
   ],
   "source": [
    "export_recipe_tweet(foodimageGoogle, foodurlGoogle, recipenameGoogle, googleAPIkey) "
   ]
  },
  {
   "cell_type": "markdown",
   "metadata": {},
   "source": [
    "---------------------------------\n",
    "## Testing stuffs below here"
   ]
  },
  {
   "cell_type": "code",
   "execution_count": null,
   "metadata": {
    "collapsed": false
   },
   "outputs": [],
   "source": [
    "datatoday['Food']"
   ]
  },
  {
   "cell_type": "code",
   "execution_count": null,
   "metadata": {
    "collapsed": false
   },
   "outputs": [],
   "source": [
    "# import 'database' of food days - ad-hoc mix of https://en.wikipedia.org/wiki/List_of_food_days and https://foodimentary.com/\n",
    "fooddata = pd.read_csv(\"fooddaysSimple.csv\", sep='\\t') \n",
    "todayday = int(time.strftime('%d'))\n",
    "todaymonth = int(time.strftime('%m'))\n",
    "monthday = np.all([fooddata.Month==todaymonth, fooddata.Day==todayday], axis=0)\n",
    "datatoday = fooddata[monthday]\n",
    "ingredient = datatoday['Food'].values[0]\n",
    "ingredient"
   ]
  },
  {
   "cell_type": "code",
   "execution_count": null,
   "metadata": {
    "collapsed": false
   },
   "outputs": [],
   "source": [
    "ingredient"
   ]
  },
  {
   "cell_type": "code",
   "execution_count": null,
   "metadata": {
    "collapsed": false
   },
   "outputs": [],
   "source": [
    "foodimageSpoon "
   ]
  },
  {
   "cell_type": "code",
   "execution_count": null,
   "metadata": {
    "collapsed": true
   },
   "outputs": [],
   "source": [
    "googlerecipe = google_search(ingredient+' recipe', googleAPIkey, csname, num=1)\n",
    "googlerecipe[0]['formattedUrl']\n",
    "googlerecipe[0]['pagemap']['cse_image']\n",
    "\n",
    "create_tweet(content=foodtext, image=imagenamepath, scheduledate=time.strftime('%Y-%m-%d'), scheduletime='{}:{}'.format(randint(16,18),randint(0,59)))\n"
   ]
  },
  {
   "cell_type": "code",
   "execution_count": null,
   "metadata": {
    "collapsed": false
   },
   "outputs": [],
   "source": [
    "googlerecipe[0].keys()"
   ]
  },
  {
   "cell_type": "code",
   "execution_count": null,
   "metadata": {
    "collapsed": false,
    "scrolled": true
   },
   "outputs": [],
   "source": [
    "## parse find by ingredients\n",
    "# response structure:\n",
    "#     {\n",
    "#     \"id\": 641803,\n",
    "#     \"title\": \"Easy & Delish! ~ Apple Crumble\",\n",
    "#     \"image\": \"https://spoonacular.com/recipeImages/Easy---Delish--Apple-Crumble-641803.jpg\",\n",
    "#     \"usedIngredientCount\": 3,\n",
    "#     \"missedIngredientCount\": 4,\n",
    "#     \"likes\": 1\n",
    "#   }\n",
    "# https://spoonacular.com/recipe/apple-crumble-641803\n",
    "\n",
    "ingredient = datatoday['Food'].values[0]\n",
    "#recipes=a.find_by_ingredients(ingredient)\n",
    "recipesdf = pd.DataFrame(recipes)\n",
    "recipesdf.sort_values(['likes', 'missedIngredientCount'], ascending=[False, False], inplace=True) #recipesdf.sort(['likes', 'missedIngredientCount'], ascending=[False, False], inplace=True)\n",
    "foodimageSpoon = recipesdf.iloc[0]['image']\n",
    "foodurlSpoon = re.sub('.jpg', '', re.sub('recipeImages', 'recipe', foodimage))\n",
    "recipenameSpoon = recipesdf.iloc[0]['title']\n",
    "recipeidSpoon = recipesdf.iloc[0]['id']\n",
    "formatimageTweet(foodimageSpoon, foodurlSpoon, recipenameSpoon, recipeidSpoon)\n",
    "\n",
    "\n",
    "def formatimageTweet(foodimage, foodurl, recipename, recipeid):\n",
    "    foodurlshort = google_url_shorten(foodurl, googleAPIkey)\n",
    "    foodtext = '''Today's recipe is {}: {}'''.format(recipename, foodurlshort)\n",
    "    imagename = '''images/{}_{}_{}.jpg'''.format(time.strftime('%Y-%m-%d'), ingredient, recipeid)\n",
    "    imagenamepath = '''{}/{}'''.format(os.getcwd(), imagename)\n",
    "    os.system(\"wget -O {0} {1}\".format(imagename, foodimage))\n",
    "    create_tweet(content=foodtext, image=imagenamepath, scheduledate=time.strftime('%Y-%m-%d'), scheduletime='{}:{}'.format(randint(16,18),randint(0,59)))\n",
    "    return None\n",
    "\n"
   ]
  },
  {
   "cell_type": "code",
   "execution_count": null,
   "metadata": {
    "collapsed": false
   },
   "outputs": [],
   "source": [
    "ingredient"
   ]
  },
  {
   "cell_type": "code",
   "execution_count": null,
   "metadata": {
    "collapsed": false
   },
   "outputs": [],
   "source": [
    "### doesn't work, gets 403 error\n",
    "#import urllib\n",
    "#urllib.request.urlretrieve(foodurl,'''/images/{}_{}_{}.jpg'''.format(time.strftime('%Y-%m-%d'), ingredient, recipesdf.iloc[0]['id']))\n",
    "\n",
    "# Use command line hackaround instead\n",
    "imagename = '''images/{}_{}_{}.jpg'''.format(time.strftime('%Y-%m-%d'), ingredient, recipesdf.iloc[0]['id'])\n",
    "os.system(\"wget -O {0} {1}\".format(imagename, foodimage))"
   ]
  },
  {
   "cell_type": "code",
   "execution_count": null,
   "metadata": {
    "collapsed": false
   },
   "outputs": [],
   "source": [
    "### parse find by complex\n",
    "recipesdf = pd.DataFrame(recipes['results'])\n",
    "recipesdf['id'][0]"
   ]
  },
  {
   "cell_type": "code",
   "execution_count": null,
   "metadata": {
    "collapsed": false
   },
   "outputs": [],
   "source": [
    "recipesdf['title'][0]"
   ]
  },
  {
   "cell_type": "code",
   "execution_count": null,
   "metadata": {
    "collapsed": false
   },
   "outputs": [],
   "source": [
    "### order by images and likes\n",
    "for i in range(len(recipes)):\n",
    "    if recipes[i]['imageType'] == u'jpg':\n",
    "        print(recipes[i]['title'],recipes[i]['likes'])"
   ]
  }
 ],
 "metadata": {
  "kernelspec": {
   "display_name": "Python 3",
   "language": "python",
   "name": "python3"
  },
  "language_info": {
   "codemirror_mode": {
    "name": "ipython",
    "version": 3
   },
   "file_extension": ".py",
   "mimetype": "text/x-python",
   "name": "python",
   "nbconvert_exporter": "python",
   "pygments_lexer": "ipython3",
   "version": "3.4.2"
  }
 },
 "nbformat": 4,
 "nbformat_minor": 0
}
