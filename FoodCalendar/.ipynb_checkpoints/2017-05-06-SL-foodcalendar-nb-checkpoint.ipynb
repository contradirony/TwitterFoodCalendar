{
 "cells": [
  {
   "cell_type": "code",
   "execution_count": 1,
   "metadata": {
    "collapsed": true
   },
   "outputs": [],
   "source": [
    "import pandas as pd\n",
    "import time \n",
    "import numpy as np\n",
    "import recipe as rc\n",
    "import re\n",
    "\n",
    "import json\n",
    "import requests\n",
    "\n",
    "def google_url_shorten(url, api_key):\n",
    "    # remember to enable https://console.developers.google.com/apis/api/urlshortener.googleapis.com/\n",
    "   req_url = 'https://www.googleapis.com/urlshortener/v1/url?key=' + api_key\n",
    "   payload = {'longUrl': url}\n",
    "   headers = {'content-type': 'application/json'}\n",
    "   r = requests.post(req_url, data=json.dumps(payload), headers=headers)\n",
    "   resp = json.loads(r.text)\n",
    "   return resp['id']\n",
    "\n",
    "#pip install --upgrade google-api-python-client\n",
    "from googleapiclient.discovery import build\n",
    "\n",
    "def google_search(search_term, api_key, cse_id, **kwargs):\n",
    "    service = build(\"customsearch\", \"v1\", developerKey=api_key)\n",
    "    res = service.cse().list(q=search_term, cx=cse_id, **kwargs).execute()\n",
    "    return res['items']"
   ]
  },
  {
   "cell_type": "code",
   "execution_count": 2,
   "metadata": {
    "collapsed": false
   },
   "outputs": [],
   "source": [
    "authdetailsdf=pd.read_csv(\"authdetails.csv\", sep=';') \n",
    "authdetails=dict(zip(list(authdetailsdf.key), list(authdetailsdf.value)))"
   ]
  },
  {
   "cell_type": "code",
   "execution_count": 3,
   "metadata": {
    "collapsed": false
   },
   "outputs": [],
   "source": [
    "googleAPIkey = authdetails['searchAPIkey']\n",
    "csname = authdetails['csname']\n",
    "spoon_api_key = authdetails['spoon_api_key']"
   ]
  },
  {
   "cell_type": "code",
   "execution_count": 39,
   "metadata": {
    "collapsed": false
   },
   "outputs": [
    {
     "data": {
      "text/plain": [
       "'Wine'"
      ]
     },
     "execution_count": 39,
     "metadata": {},
     "output_type": "execute_result"
    }
   ],
   "source": [
    "# import 'database' of food days - ad-hoc mix of https://en.wikipedia.org/wiki/List_of_food_days and https://foodimentary.com/\n",
    "fooddata = pd.read_csv(\"fooddaysSimple.csv\", sep='\\t') \n",
    "\n",
    "todayday = int(time.strftime('%d'))\n",
    "todaymonth = int(time.strftime('%m'))\n",
    "\n",
    "monthday = np.all([fooddata.Month==todaymonth, fooddata.Day==todayday], axis=0)\n",
    "datatoday = fooddata[monthday]\n",
    "ingredient = datatoday['Food'].values[0]\n",
    "ingredient"
   ]
  },
  {
   "cell_type": "code",
   "execution_count": 25,
   "metadata": {
    "collapsed": false
   },
   "outputs": [],
   "source": [
    "def create_tweet(content, image='', scheduledate='2017-05-06', scheduletime='07:00'):\n",
    "    ''' format tweet as follows for scheduler:   \n",
    "    a|Example tweet with attachment|image name.jpg|2017-03-26@00:00\n",
    "    '''\n",
    "    tweet_format='a'+'|'+content+'|'+image+'|'+scheduledate+'@'+scheduletime\n",
    "    print(content+'!')\n",
    "    return tweet_format\n",
    "    "
   ]
  },
  {
   "cell_type": "code",
   "execution_count": 37,
   "metadata": {
    "collapsed": false,
    "scrolled": false
   },
   "outputs": [
    {
     "name": "stderr",
     "output_type": "stream",
     "text": [
      "WARNING:googleapiclient.discovery_cache:file_cache is unavailable when using oauth2client >= 4.0.0\n",
      "Traceback (most recent call last):\n",
      "  File \"/home/sammi/anaconda/lib/python2.7/site-packages/googleapiclient/discovery_cache/__init__.py\", line 41, in autodetect\n",
      "    from . import file_cache\n",
      "  File \"/home/sammi/anaconda/lib/python2.7/site-packages/googleapiclient/discovery_cache/file_cache.py\", line 41, in <module>\n",
      "    'file_cache is unavailable when using oauth2client >= 4.0.0')\n",
      "ImportError: file_cache is unavailable when using oauth2client >= 4.0.0\n"
     ]
    },
    {
     "name": "stdout",
     "output_type": "stream",
     "text": [
      "https://www.facebook.com/wineday/\n",
      "Happy National Wine Day!!\n",
      "temp\n"
     ]
    }
   ],
   "source": [
    "if datatoday.shape[0]>0:\n",
    "    # there is a national food day entry\n",
    "    nationalday = 'Happy National '+ingredient+' Day!'\n",
    "    \n",
    "    # get top google result for information about the day\n",
    "    results = google_search(nationalday, googleAPIkey, csname, num=1)\n",
    "    for i in range(len(results)):\n",
    "        print(results[i]['formattedUrl'])\n",
    "    \n",
    "    # create one tweet for this\n",
    "    # TODO\n",
    "    create_tweet(content=nationalday)\n",
    "    # get recipes that has the national food day in it as an ingredient\n",
    "    a=rc.RecipeClient(spoon_api_key)\n",
    "    recipes=a.find_by_ingredients(ingredient)\n",
    "\n",
    "    # if searching by ingredient result is empty, try search by recipe name (note more API calls)\n",
    "    # to be extended in future with starter, main, and dessert\n",
    "    if len(recipes)==0:\n",
    "        recipes=a.find_complex(ingredients=ingredient)\n",
    "        # parse\n",
    "    else: # structure of this is different to find_complex\n",
    "        print('temp')\n",
    "        \n",
    "else:\n",
    "    # get random joke and fact\n",
    "    a.random_joke()\n",
    "    a.random_trivia()"
   ]
  },
  {
   "cell_type": "code",
   "execution_count": 43,
   "metadata": {
    "collapsed": false
   },
   "outputs": [
    {
     "name": "stdout",
     "output_type": "stream",
     "text": [
      "(\"Today's recipe is Shanghai-Style Braised Pork Belly (Hong Shao Rou): https://goo.gl/jN7Pqf\", 90)\n",
      "Today's recipe is Shanghai-Style Braised Pork Belly (Hong Shao Rou): https://goo.gl/jN7Pqf!\n"
     ]
    },
    {
     "data": {
      "text/plain": [
       "u\"a|Today's recipe is Shanghai-Style Braised Pork Belly (Hong Shao Rou): https://goo.gl/jN7Pqf|https://spoonacular.com/recipeImages/shanghai-style-braised-pork-belly-hong-shao-rou-879337.jpg|2017-05-06@07:00\""
      ]
     },
     "execution_count": 43,
     "metadata": {},
     "output_type": "execute_result"
    }
   ],
   "source": [
    "## parse find by ingredients\n",
    "# response structure:\n",
    "#     {\n",
    "#     \"id\": 641803,\n",
    "#     \"title\": \"Easy & Delish! ~ Apple Crumble\",\n",
    "#     \"image\": \"https://spoonacular.com/recipeImages/Easy---Delish--Apple-Crumble-641803.jpg\",\n",
    "#     \"usedIngredientCount\": 3,\n",
    "#     \"missedIngredientCount\": 4,\n",
    "#     \"likes\": 1\n",
    "#   }\n",
    "# https://spoonacular.com/recipe/apple-crumble-641803\n",
    "\n",
    "ingredient = datatoday['Food']\n",
    "#recipes=a.find_by_ingredients(ingredient)\n",
    "recipesdf = pd.DataFrame(recipes)\n",
    "recipesdf.sort(['likes', 'missedIngredientCount'], ascending=[False, False], inplace=True)\n",
    "\n",
    "# new versions of pandas:\n",
    "# recipesdf.sort_values(['likes', 'missedIngredientCount'], ascending=[False, False], inplace=True)\n",
    "\n",
    "foodimage = recipesdf.iloc[0]['image']\n",
    "foodurl = re.sub('.jpg', '', re.sub('recipeImages', 'recipe', foodimage))\n",
    "foodurlshort = google_url_shorten(foodurl, googleAPIkey)\n",
    "#foodtext = '''Today's recipe with {} in it is {}: {}'''.format(ingredient, recipesdf.iloc[0]['title'], foodurlshort)\n",
    "foodtext = '''Today's recipe is {}: {}'''.format(recipesdf.iloc[0]['title'], foodurlshort)\n",
    "print(foodtext, len(foodtext))\n",
    "create_tweet(content=foodtext, image=foodimage, scheduledate='2017-05-06', scheduletime='07:00')"
   ]
  },
  {
   "cell_type": "code",
   "execution_count": null,
   "metadata": {
    "collapsed": false
   },
   "outputs": [],
   "source": [
    "### parse find by complex\n",
    "recipesdf = pd.DataFrame(recipes['results'])\n",
    "recipesdf['id'][0]"
   ]
  },
  {
   "cell_type": "code",
   "execution_count": null,
   "metadata": {
    "collapsed": false
   },
   "outputs": [],
   "source": [
    "recipesdf['title'][0]"
   ]
  },
  {
   "cell_type": "markdown",
   "metadata": {},
   "source": [
    "------------------------------"
   ]
  },
  {
   "cell_type": "code",
   "execution_count": null,
   "metadata": {
    "collapsed": false
   },
   "outputs": [],
   "source": [
    "### order by images and likes\n",
    "for i in range(len(recipes)):\n",
    "    if recipes[i]['imageType'] == u'jpg':\n",
    "        print(recipes[i]['title'],recipes[i]['likes'])"
   ]
  }
 ],
 "metadata": {
  "kernelspec": {
   "display_name": "Python 3",
   "language": "python",
   "name": "python3"
  },
  "language_info": {
   "codemirror_mode": {
    "name": "ipython",
    "version": 3
   },
   "file_extension": ".py",
   "mimetype": "text/x-python",
   "name": "python",
   "nbconvert_exporter": "python",
   "pygments_lexer": "ipython3",
   "version": "3.4.2"
  }
 },
 "nbformat": 4,
 "nbformat_minor": 0
}
